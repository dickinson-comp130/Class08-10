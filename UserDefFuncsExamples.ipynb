{
 "cells": [
  {
   "cell_type": "markdown",
   "metadata": {
    "deletable": false,
    "editable": false,
    "run_control": {
     "frozen": true
    }
   },
   "source": [
    "# Class 08-10 - User Defined Function Examples  \n",
    "**COMP130 - Introduction to Computing**  \n",
    "**Dickinson College**  "
   ]
  },
  {
   "cell_type": "markdown",
   "metadata": {
    "deletable": false,
    "editable": false,
    "run_control": {
     "frozen": true
    }
   },
   "source": [
    "Some of the examples from this class hark back to the time honored craft of creating banners from [ASCII Text](http://patorjk.com/software/taag/#p=display&f=Double&t=Type%20Something%20). \n",
    "\n",
    "Back in the day these could be [printed on a dot matrix printer](https://www.youtube.com/watch?v=h8YYwJu-E5I) and then hung up at [parties](http://dotmatrixprinting.com/images/connie.jpg) or for [sinage](https://pbs.twimg.com/media/DY6Z39UX4AEGUdk.jpg). \n",
    "\n",
    "Lest you think this is a dead and obsolete art form ... just visit Time Square or any major athletics event.\n",
    "\n",
    "![Time Square Ticker](http://www.aviewoncities.com/img/nyc/kveus2223s.jpg)\n",
    "\n",
    "And as if that isn't enough... someone is actually still [making money on them on Etsy!](https://www.etsy.com/listing/682890307/custom-dot-matrix-banner-print-shop?ga_order=most_relevant&ga_search_type=all&ga_view_type=gallery&ga_search_query=dot+matrix&ref=sr_gallery-1-1&frs=1&col=1)"
   ]
  },
  {
   "cell_type": "markdown",
   "metadata": {
    "deletable": false,
    "editable": false,
    "run_control": {
     "frozen": true
    }
   },
   "source": [
    "### Printing T"
   ]
  },
  {
   "cell_type": "code",
   "execution_count": null,
   "metadata": {},
   "outputs": [],
   "source": [
    "print('*****')\n",
    "print('  *  ')\n",
    "print('  *  ')\n",
    "print('  *  ')\n",
    "print('  *  ')"
   ]
  },
  {
   "cell_type": "markdown",
   "metadata": {
    "deletable": false,
    "editable": false,
    "run_control": {
     "frozen": true
    }
   },
   "source": [
    "## Defining Functions"
   ]
  },
  {
   "cell_type": "markdown",
   "metadata": {
    "deletable": false,
    "editable": false,
    "run_control": {
     "frozen": true
    }
   },
   "source": [
    "### The T Function"
   ]
  },
  {
   "cell_type": "code",
   "execution_count": null,
   "metadata": {},
   "outputs": [],
   "source": [
    "def print_T():\n",
    "  print('*****')\n",
    "  print('  *  ')\n",
    "  print('  *  ')\n",
    "  print('  *  ')\n",
    "  print('  *  ')"
   ]
  },
  {
   "cell_type": "code",
   "execution_count": null,
   "metadata": {},
   "outputs": [],
   "source": [
    "print_T()"
   ]
  },
  {
   "cell_type": "markdown",
   "metadata": {
    "deletable": false,
    "editable": false,
    "run_control": {
     "frozen": true
    }
   },
   "source": [
    "### Printing Multiple T's"
   ]
  },
  {
   "cell_type": "code",
   "execution_count": null,
   "metadata": {},
   "outputs": [],
   "source": [
    "print_T()\n",
    "print()\n",
    "print_T()"
   ]
  },
  {
   "cell_type": "markdown",
   "metadata": {
    "deletable": false,
    "editable": false,
    "run_control": {
     "frozen": true
    }
   },
   "source": [
    "### Breaking up the T"
   ]
  },
  {
   "cell_type": "code",
   "execution_count": null,
   "metadata": {},
   "outputs": [],
   "source": [
    "def print_horiz_bar():\n",
    "  print('*****')\n",
    "\n",
    "def print_center_vert_bar():\n",
    "  print('  *  ')\n",
    "  print('  *  ')\n",
    "  print('  *  ')\n",
    "  print('  *  ')"
   ]
  },
  {
   "cell_type": "code",
   "execution_count": null,
   "metadata": {},
   "outputs": [],
   "source": [
    "def print_T():\n",
    "  print_horiz_bar()\n",
    "  print_center_vert_bar()"
   ]
  },
  {
   "cell_type": "code",
   "execution_count": null,
   "metadata": {},
   "outputs": [],
   "source": [
    "print_T()\n",
    "print()\n",
    "print_T()"
   ]
  },
  {
   "cell_type": "markdown",
   "metadata": {
    "deletable": false,
    "editable": false,
    "run_control": {
     "frozen": true
    }
   },
   "source": [
    "### An I Function"
   ]
  },
  {
   "cell_type": "code",
   "execution_count": null,
   "metadata": {},
   "outputs": [],
   "source": [
    "def print_I():\n",
    "    #  What goes here?\n",
    "\n",
    "print_I()"
   ]
  },
  {
   "cell_type": "markdown",
   "metadata": {
    "deletable": false,
    "editable": false,
    "run_control": {
     "frozen": true
    }
   },
   "source": [
    "![Stop sign](Stop.png) End class 08 Examples"
   ]
  },
  {
   "cell_type": "markdown",
   "metadata": {
    "deletable": false,
    "editable": false,
    "run_control": {
     "frozen": true
    }
   },
   "source": [
    "## Functions with Arguments & Parameters"
   ]
  },
  {
   "cell_type": "markdown",
   "metadata": {
    "deletable": false,
    "editable": false,
    "run_control": {
     "frozen": true
    }
   },
   "source": [
    "Gee... wouldn't it be much nicer if we could change the size of our letters from above?"
   ]
  },
  {
   "cell_type": "markdown",
   "metadata": {
    "deletable": false,
    "editable": false,
    "run_control": {
     "frozen": true
    }
   },
   "source": [
    "### A Variable Width Bar"
   ]
  },
  {
   "cell_type": "code",
   "execution_count": null,
   "metadata": {},
   "outputs": [],
   "source": [
    "def print_horiz_bar(width):\n",
    "    print('*'*width)\n",
    "    \n",
    "print_horiz_bar(9)"
   ]
  },
  {
   "cell_type": "markdown",
   "metadata": {
    "deletable": false,
    "editable": false,
    "run_control": {
     "frozen": true
    }
   },
   "source": [
    "###  A Variable Height Centered Bar"
   ]
  },
  {
   "cell_type": "code",
   "execution_count": null,
   "metadata": {},
   "outputs": [],
   "source": [
    "def print_center_vert_bar(width, height):\n",
    "    line=' '*(width//2) + '*\\n'\n",
    "    print(line*height)\n",
    "    \n",
    "print_center_vert_bar(9,5)"
   ]
  },
  {
   "cell_type": "markdown",
   "metadata": {
    "deletable": false,
    "editable": false,
    "run_control": {
     "frozen": true
    }
   },
   "source": [
    "### A Scalable T"
   ]
  },
  {
   "cell_type": "code",
   "execution_count": null,
   "metadata": {},
   "outputs": [],
   "source": [
    "def print_T(width):\n",
    "    print_horiz_bar(width)\n",
    "    print_center_vert_bar(width,width//3*2)\n",
    "\n",
    "print_T(9)"
   ]
  },
  {
   "cell_type": "markdown",
   "metadata": {
    "deletable": false,
    "editable": false,
    "run_control": {
     "frozen": true
    }
   },
   "source": [
    "## Fruitful & Void (Fruitless) Functions"
   ]
  },
  {
   "cell_type": "markdown",
   "metadata": {
    "deletable": false,
    "editable": false,
    "run_control": {
     "frozen": true
    }
   },
   "source": [
    "Some functions compute useful values that we'd like to use elsewhere in our programs. These functions are *fruitful* functions.  Assign their values to variables or use them in expressions.  Other functions are *void* (or *fruitless*) functions.  These functions have some effect but do not return a useful value."
   ]
  },
  {
   "cell_type": "markdown",
   "metadata": {
    "deletable": false,
    "editable": false,
    "run_control": {
     "frozen": true
    }
   },
   "source": [
    "### Fruitful Functions do not Change Parameters"
   ]
  },
  {
   "cell_type": "markdown",
   "metadata": {
    "deletable": false,
    "editable": false,
    "run_control": {
     "frozen": true
    }
   },
   "source": [
    "The following program is incorrect because `int` and `str` are *fruitful functions*.  They *return a new value* as an integer or a string.  They do not change the type of their argument.  I.e. `year` is not turned into an integer. "
   ]
  },
  {
   "cell_type": "code",
   "execution_count": null,
   "metadata": {},
   "outputs": [],
   "source": [
    "year=input(\"Enter the year: \")\n",
    "int(year)\n",
    "new_year = year + 10\n",
    "str(new_year)\n",
    "print(\"In ten years it will be \" + new_year)"
   ]
  },
  {
   "cell_type": "markdown",
   "metadata": {
    "deletable": false,
    "editable": false,
    "run_control": {
     "frozen": true
    }
   },
   "source": [
    "There are several correct ways to use these functions.  All of them use the fact that `int` and `str` are fruitful functions and *return a new value* of the appropriate type. The returned value is then what is used."
   ]
  },
  {
   "cell_type": "markdown",
   "metadata": {
    "deletable": false,
    "editable": false,
    "run_control": {
     "frozen": true
    }
   },
   "source": [
    "#### Option 1:  Introduce New Variables"
   ]
  },
  {
   "cell_type": "code",
   "execution_count": null,
   "metadata": {},
   "outputs": [],
   "source": [
    "year=input(\"Enter the year: \")\n",
    "year_num = int(year)\n",
    "new_year = year_num + 10\n",
    "new_year_str = str(new_year)\n",
    "print(\"In ten years it will be \" + new_year_str)"
   ]
  },
  {
   "cell_type": "markdown",
   "metadata": {
    "deletable": false,
    "editable": false,
    "run_control": {
     "frozen": true
    }
   },
   "source": [
    "#### Option 2: Convert In Place"
   ]
  },
  {
   "cell_type": "code",
   "execution_count": null,
   "metadata": {},
   "outputs": [],
   "source": [
    "year=int(input(\"Enter the year: \"))\n",
    "new_year = year + 10\n",
    "print(\"In Ten years it will be \" + str(new_year))"
   ]
  },
  {
   "cell_type": "markdown",
   "metadata": {
    "deletable": false,
    "editable": false,
    "run_control": {
     "frozen": true
    }
   },
   "source": [
    "### The None Value\n",
    "\n",
    "Void (or fruitless) functions return a special value called `None`."
   ]
  },
  {
   "cell_type": "code",
   "execution_count": null,
   "metadata": {},
   "outputs": [],
   "source": [
    "name=print(\"Grace Murry Hopper\")\n",
    "print(name)\n",
    "print(type(name))"
   ]
  },
  {
   "cell_type": "markdown",
   "metadata": {
    "deletable": false,
    "editable": false,
    "run_control": {
     "frozen": true
    }
   },
   "source": [
    "### Printing is Not Returning\n",
    "\n",
    "A value printed is not the same as a value that is returned from a function.  We will learn how to return values from functions in a little while.  For now, we will be writing *void* functions.  But for now it is important to know the difference."
   ]
  },
  {
   "cell_type": "code",
   "execution_count": null,
   "metadata": {},
   "outputs": [],
   "source": [
    "import math\n",
    "\n",
    "def circle_area(radius):\n",
    "  print(math.pi * math.pow(radius,2))\n",
    "    \n",
    "circle_area(10)"
   ]
  },
  {
   "cell_type": "code",
   "execution_count": null,
   "metadata": {},
   "outputs": [],
   "source": [
    "area = circle_area(10)\n",
    "print(area)\n",
    "print(2*area)"
   ]
  },
  {
   "cell_type": "markdown",
   "metadata": {
    "deletable": false,
    "editable": false,
    "run_control": {
     "frozen": true
    }
   },
   "source": [
    "The `circle_area` function prints the area (`314.1592...`), but returns the value `None`, which is what is assigned to the variable `area` and then printed by the code above.\n",
    "\n",
    "We will learn how to write *fruitful* functions that return values that we can store and use soon."
   ]
  }
 ],
 "metadata": {
  "kernelspec": {
   "display_name": "Python 3",
   "language": "python",
   "name": "python3"
  },
  "language_info": {
   "codemirror_mode": {
    "name": "ipython",
    "version": 3
   },
   "file_extension": ".py",
   "mimetype": "text/x-python",
   "name": "python",
   "nbconvert_exporter": "python",
   "pygments_lexer": "ipython3",
   "version": "3.7.3"
  }
 },
 "nbformat": 4,
 "nbformat_minor": 2
}
